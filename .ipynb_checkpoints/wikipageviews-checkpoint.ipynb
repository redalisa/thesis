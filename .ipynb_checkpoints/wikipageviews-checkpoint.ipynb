{
 "cells": [
  {
   "cell_type": "markdown",
   "id": "18119de9-cfe9-4ce5-9fd9-e2fe2ec79ac7",
   "metadata": {},
   "source": [
    "## Wikipedia Page Views"
   ]
  },
  {
   "cell_type": "code",
   "execution_count": 1,
   "id": "f6d3d9b0-e5de-4897-8757-aa4e5a4c4170",
   "metadata": {},
   "outputs": [],
   "source": [
    "import pandas as pd\n",
    "import json\n",
    "from ast import literal_eval\n",
    "from collections import Counter\n",
    "import numpy as np\n",
    "import matplotlib.pyplot as plt\n",
    "import json\n",
    "import base64\n",
    "import requests\n",
    "import bs4\n",
    "from bs4 import BeautifulSoup\n",
    "import re\n",
    "\n",
    "from requests.structures import CaseInsensitiveDict\n",
    "from ratelimit import limits, RateLimitException, sleep_and_retry\n",
    "# pip install ratelimit"
   ]
  },
  {
   "cell_type": "code",
   "execution_count": 2,
   "id": "d1a38d40-f727-41b5-a3a1-c4c32a5480ef",
   "metadata": {},
   "outputs": [],
   "source": [
    "species = pd.read_csv(\"csv/speciesinfo.csv\", sep = \";\")"
   ]
  },
  {
   "cell_type": "code",
   "execution_count": 41,
   "id": "b1db27a6-e940-4078-83b0-68496fea6a27",
   "metadata": {},
   "outputs": [],
   "source": [
    "ONE_MINUTE = 60\n",
    "MAX_CALLS_PER_MINUTE = 90\n",
    "\n",
    "@sleep_and_retry\n",
    "@limits(calls=MAX_CALLS_PER_MINUTE, period=ONE_MINUTE)\n",
    "# https://akshayranganath.github.io/Rate-Limiting-With-Python/\n",
    "def WikiPageView(name):\n",
    "    \n",
    "    # Calling monthly page views of each species \n",
    "    address = \"https://wikimedia.org/api/rest_v1/metrics/pageviews/per-article/en.wikipedia.org/all-access/user/\" + name + \"/monthly/2015010100/2020123100\"\n",
    "\n",
    "    headers = CaseInsensitiveDict()\n",
    "    headers[\"Accept\"] = \"application/json\"\n",
    "    # Personal username for identification for the Wikipedia API\n",
    "    headers = {'User-Agent': 'reddalisa/3.10.6 (alisa.redding@helsinki.fi)'}\n",
    "    \n",
    "    resp = requests.get(address, headers=headers)\n",
    "    details = resp.json()\n",
    "    \n",
    "    \n",
    "    return details \n",
    "    \n",
    "    \n",
    "    \n",
    "    \n",
    "    \n",
    "# Create an empty list to store the monthly pageviews into\n",
    "newframe = []  \n",
    "\n",
    "# Loop over the pd series of species names and call the wikipage function\n",
    "for name in species['scientific_name']:\n",
    "    # Spaces are replaced with an underscore for the wikipedia API\n",
    "    name = name.replace(\" \", \"_\")\n",
    "    result = WikiPageView(name)\n",
    "    \n",
    "    try:\n",
    "        for n in range(len(result['items'])):\n",
    "            name = result['items'][n]['article']\n",
    "            date = result['items'][n]['timestamp']\n",
    "            # Remove 00 at marking hour\n",
    "            date = date[:-2]\n",
    "            view = result['items'][n]['views']\n",
    "    \n",
    "            data = {'name': name, 'date': date, 'views': view}\n",
    "            newframe.append(data)\n",
    "    except KeyError: \n",
    "        pass\n"
   ]
  },
  {
   "cell_type": "code",
   "execution_count": 42,
   "id": "0e3f6c30-3ded-43d1-abfc-a6d6c6e5fc95",
   "metadata": {},
   "outputs": [
    {
     "data": {
      "text/plain": [
       "36416"
      ]
     },
     "execution_count": 42,
     "metadata": {},
     "output_type": "execute_result"
    }
   ],
   "source": [
    "len(newframe)"
   ]
  },
  {
   "cell_type": "code",
   "execution_count": 24,
   "id": "06af08dc-f66c-47e1-9287-76087434dc31",
   "metadata": {},
   "outputs": [],
   "source": [
    "newframe = []\n",
    "\n",
    "for n in range(len(views[0]['items'])):\n",
    "    name = views[0]['items'][n]['article']\n",
    "    date = views[0]['items'][n]['timestamp']\n",
    "    date = date[:-2]\n",
    "    view = views[0]['items'][n]['views']\n",
    "    \n",
    "    data = {'name': name, 'date': date, 'views': view}\n",
    "    newframe.append(data)\n"
   ]
  },
  {
   "cell_type": "code",
   "execution_count": 44,
   "id": "536d706f-d881-4e01-91bf-bfc5d5c71d2b",
   "metadata": {},
   "outputs": [],
   "source": [
    "# \n",
    "wikipage = pd.DataFrame(newframe)\n",
    "wikipage[\"datetime\"] = wikipage[\"date\"].apply(pd.to_datetime)\n",
    "wikipage['scientific_name'] = wikipage[\"name\"].apply(lambda x: x.replace(\"_\", \" \"))"
   ]
  },
  {
   "cell_type": "code",
   "execution_count": 49,
   "id": "87804d78-070a-4d49-8c4c-fee78177ae9c",
   "metadata": {},
   "outputs": [],
   "source": [
    "# \n",
    "wikipage.sort_values(by=\"views\")"
   ]
  },
  {
   "cell_type": "code",
   "execution_count": 53,
   "id": "23e89f3e-7c88-4945-b5d5-2ff4577fc18f",
   "metadata": {},
   "outputs": [],
   "source": [
    "wikipage.to_csv(\"csv/wikipageviews_species.csv\", sep = \";\", index = False)"
   ]
  }
 ],
 "metadata": {
  "kernelspec": {
   "display_name": "Python 3 (ipykernel)",
   "language": "python",
   "name": "python3"
  },
  "language_info": {
   "codemirror_mode": {
    "name": "ipython",
    "version": 3
   },
   "file_extension": ".py",
   "mimetype": "text/x-python",
   "name": "python",
   "nbconvert_exporter": "python",
   "pygments_lexer": "ipython3",
   "version": "3.10.6"
  }
 },
 "nbformat": 4,
 "nbformat_minor": 5
}
