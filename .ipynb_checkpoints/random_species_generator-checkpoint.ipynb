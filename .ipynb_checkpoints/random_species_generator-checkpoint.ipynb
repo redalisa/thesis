{
 "cells": [
  {
   "cell_type": "markdown",
   "id": "3ab69d61-1902-4cc1-8b41-d146dacf5e24",
   "metadata": {},
   "source": [
    "# Random Species Generator"
   ]
  },
  {
   "cell_type": "code",
   "execution_count": 1,
   "id": "cd7d69e7-4ab7-4c7c-8499-adc69b81afc6",
   "metadata": {},
   "outputs": [],
   "source": [
    "import pandas as pd\n",
    "import geopandas as gpd\n",
    "import json\n",
    "from ast import literal_eval\n",
    "from collections import Counter\n",
    "import numpy as np\n",
    "import matplotlib.pyplot as plt\n",
    "import random\n",
    "#pip install geopandas\n",
    "#pip install spacy\n",
    "#python -m spacy download en_core_web_sm"
   ]
  },
  {
   "cell_type": "code",
   "execution_count": null,
   "id": "1047c3de-bd41-4e17-93f8-e3b9bf98d5e0",
   "metadata": {},
   "outputs": [],
   "source": [
    "# read in the dataset \n",
    "df = pd.read_json('animal_news_database.json', lines = True)\n",
    "\n",
    "# Read in the datasets defining our subset data\n",
    "undoc = pd.read_csv(\"undoc_species.csv\", sep = \";\")\n",
    "charismatic = pd.read_csv(\"charismatic_20.csv\", sep = \";\")\n",
    "edge = pd.read_csv(\"non_charismatic_20.csv\", sep = \";\")\n",
    "\n",
    "\n",
    "\n",
    "# Clean up datasets\n",
    "charismatic = charismatic.rename(columns = {'Scientifc Name' : 'scientific_name'})\n",
    "charismatic = charismatic[['scientific_name', 'Ecosystem']]\n",
    "edge = edge.rename(columns = {'Scientifc Name' : 'scientific_name'})\n",
    "edge = edge[['scientific_name', 'Ecosystem', 'Conservation Attention']]\n",
    "\n",
    "# Drop Twitter handles as they are not species names\n",
    "df = df[df.scientific_name.str.contains('@') == False]\n",
    "df.reset_index(drop = True, inplace = True)\n",
    "# How many species listed total in this dataset\n",
    "#df['scientific_name'].nunique()"
   ]
  },
  {
   "cell_type": "code",
   "execution_count": null,
   "id": "0b720e8d-2ee4-475c-9830-ef79536b25c2",
   "metadata": {},
   "outputs": [],
   "source": [
    "# Add new column for storing the values article amount found under each species type \n",
    "for i, row in df.iterrows():\n",
    "    df.at[i, 'article_amt'] = len(row.articles.values())\n",
    "    \n",
    "# Read in the CITES data to join with the top 10 (or 20) most reported on species \n",
    "cites1 = pd.read_csv(\"cites1.csv\", delimiter = ';')\n",
    "\n",
    "# Keep only most relevant columns\n",
    "cites1 = cites1[['Kingdom', 'Class', 'Order', 'Family', 'Genus', 'Species', 'Scientific Name', 'Listing', 'NativeDistributionFullNames', 'Extinct_Distribution']]\n",
    "cites1 = cites1.rename(columns = {'Scientific Name' : 'scientific_name'})\n",
    "\n",
    "# Do the same for the entire dataframe\n",
    "df = df.merge(cites1, on = 'scientific_name', how = 'inner')\n",
    "\n",
    "# Merge similarly with the data subsets\n",
    "rizz = df.merge(charismatic, on = 'scientific_name', how = 'inner')\n",
    "dg = df.merge(edge, on = 'scientific_name', how = 'inner')\n",
    "\n",
    "# Group dataframe by the scientific name that remains consistent for all rows \n",
    "grouped = rizz.groupby('scientific_name')# 'Class', 'iucn_status'])\n",
    "# Calculate the totals of the group species\n",
    "article_totals_rz = grouped.article_amt.sum().round()\n",
    "\n",
    "# Group dataframe by the scientific name that remains consistent for all rows \n",
    "grouped = dg.groupby('scientific_name')# 'Class', 'iucn_status'])\n",
    "# Calculate the totals of the group species\n",
    "article_totals_dg = grouped.article_amt.sum().round()"
   ]
  },
  {
   "cell_type": "code",
   "execution_count": null,
   "id": "7527ae72-9e56-44fb-8e3c-c6218637a243",
   "metadata": {},
   "outputs": [],
   "source": [
    "# This will at least return unique instances. Does not include the Ecosystem requirements I came up with \n",
    "rizz.query(\"Class = Mammal\").sample(n=8)\n",
    "\n",
    "rizz.query(\"Class = Reptile\").sample(n=2)"
   ]
  },
  {
   "cell_type": "code",
   "execution_count": null,
   "id": "c6de9756-928b-4c9d-b840-cb33953a9a28",
   "metadata": {},
   "outputs": [],
   "source": [
    "species_class = [\"Mammalia\"] * 8 + [\"Reptilia\"] * 2\n",
    "ecosystem = [\"Terrestrial\"] * 6 + [\"Aquatic\"] * 4\n",
    "random.shuffle(ecosystem)  # randomly shuffle ecosystem\n",
    "random.shuffle(species_class)\n",
    "\n",
    "\n",
    "# POssible solution... results in an Variable errore and doesn't select unique species..\n",
    "df1_selected = pd.DataFrame(columns=df1.columns)\n",
    "for i in range(10):\n",
    "    df1_selected = df1_selected.append(\n",
    "        df1.query(f\"Class = {species_class[i]} and Ecosystem = {ecosystem[i]}\").sample(n=1)\n",
    "    )\n",
    "    \n",
    "rizz_selected = pd.DataFrame(columns=rizz.columns)\n",
    "for i, j in zip(species_class, ecosystem):\n",
    "    rizz_selected = rizz_selected.append(\n",
    "        rizz.query(f'`Class` == @i and Ecosystem == @j').sample(n=1)\n",
    "    )\n",
    "    \n"
   ]
  },
  {
   "cell_type": "code",
   "execution_count": null,
   "id": "edb56d93-445d-47df-92a2-c00ec1b8cd94",
   "metadata": {},
   "outputs": [],
   "source": []
  },
  {
   "cell_type": "code",
   "execution_count": null,
   "id": "bea29555-5c68-4041-96e3-e5bab8653a9b",
   "metadata": {},
   "outputs": [],
   "source": []
  },
  {
   "cell_type": "code",
   "execution_count": null,
   "id": "8de7ca4a-78b4-43fb-bfc2-d25724a08fe8",
   "metadata": {},
   "outputs": [],
   "source": []
  },
  {
   "cell_type": "code",
   "execution_count": null,
   "id": "58d6b3da-a51d-4942-ba52-709c6b47a7c2",
   "metadata": {},
   "outputs": [],
   "source": []
  },
  {
   "cell_type": "code",
   "execution_count": null,
   "id": "7de0716c-4901-4841-b83c-f37ab30702ef",
   "metadata": {},
   "outputs": [],
   "source": []
  },
  {
   "cell_type": "code",
   "execution_count": null,
   "id": "dd085002-cd5c-44de-8860-dc2d60c6797b",
   "metadata": {},
   "outputs": [],
   "source": []
  }
 ],
 "metadata": {
  "kernelspec": {
   "display_name": "Python 3 (ipykernel)",
   "language": "python",
   "name": "python3"
  },
  "language_info": {
   "codemirror_mode": {
    "name": "ipython",
    "version": 3
   },
   "file_extension": ".py",
   "mimetype": "text/x-python",
   "name": "python",
   "nbconvert_exporter": "python",
   "pygments_lexer": "ipython3",
   "version": "3.10.6"
  }
 },
 "nbformat": 4,
 "nbformat_minor": 5
}
