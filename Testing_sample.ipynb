{
 "cells": [
  {
   "cell_type": "markdown",
   "id": "96110d64-aa06-4a2a-8ccb-c81555d07d66",
   "metadata": {
    "tags": []
   },
   "source": [
    "### Testing for exploding the articles column"
   ]
  },
  {
   "cell_type": "code",
   "execution_count": 5,
   "id": "8618aabc-4f48-416a-aa7a-d1b695ee7298",
   "metadata": {},
   "outputs": [],
   "source": [
    "import pandas as pd"
   ]
  },
  {
   "cell_type": "code",
   "execution_count": 2,
   "id": "def45519-aeac-4670-96a5-198c07d73afd",
   "metadata": {},
   "outputs": [],
   "source": [
    "data = {'age': [59, 18, 63],\n",
    "        'sample':  [({'0': {'a':'yes', 'b': 'no'}, '1':{'a': 'maybe', 'b': 'NA'}}), ({'0': {'a':'no', 'b': 'yes'}}),  ({'0': {'a':'no', 'b': 'no'}, '1':{'a': 'no', 'b': 'yes'}, '2':{'a': 'yes', 'b': 'yes'}})],\n",
    "        'date': ['2022-09-29', '2022-08-29', '2022-07-29']}"
   ]
  },
  {
   "cell_type": "code",
   "execution_count": 7,
   "id": "662844ff-1517-4244-ad16-bdefea7b72ff",
   "metadata": {},
   "outputs": [],
   "source": [
    "df = pd.DataFrame.from_dict(data, orient='index', columns=['age', 'sample', 'date'])\n",
    "df = df.transpose()\n",
    "df = df.reset_index(drop=True)"
   ]
  },
  {
   "cell_type": "code",
   "execution_count": null,
   "id": "7107b449-98d6-40ee-9bed-7180e8cea2a8",
   "metadata": {},
   "outputs": [],
   "source": [
    "pd.concat(t['sample'].apply(pd.DataFrame).tolist(), \n",
    "                        keys=t[\"age\"]).reset_index(level=\"age\")"
   ]
  },
  {
   "cell_type": "code",
   "execution_count": 8,
   "id": "418ec326-be7d-42d7-bc50-1a423676559f",
   "metadata": {},
   "outputs": [],
   "source": [
    "out = df.drop(columns='sample').join(\n",
    " pd.json_normalize(df['sample'])\n",
    "   .pipe(lambda d: d.set_axis(d.columns.str.split('.', expand=True), axis=1))\n",
    "   .stack().rename_axis([None, 'new']).reset_index(-1)\n",
    ")"
   ]
  },
  {
   "cell_type": "code",
   "execution_count": 9,
   "id": "62764ff4-fb98-4c48-8933-427af1bd71f4",
   "metadata": {},
   "outputs": [
    {
     "data": {
      "text/html": [
       "<div>\n",
       "<style scoped>\n",
       "    .dataframe tbody tr th:only-of-type {\n",
       "        vertical-align: middle;\n",
       "    }\n",
       "\n",
       "    .dataframe tbody tr th {\n",
       "        vertical-align: top;\n",
       "    }\n",
       "\n",
       "    .dataframe thead th {\n",
       "        text-align: right;\n",
       "    }\n",
       "</style>\n",
       "<table border=\"1\" class=\"dataframe\">\n",
       "  <thead>\n",
       "    <tr style=\"text-align: right;\">\n",
       "      <th></th>\n",
       "      <th>age</th>\n",
       "      <th>date</th>\n",
       "      <th>new</th>\n",
       "      <th>0</th>\n",
       "      <th>1</th>\n",
       "      <th>2</th>\n",
       "    </tr>\n",
       "  </thead>\n",
       "  <tbody>\n",
       "    <tr>\n",
       "      <th>0</th>\n",
       "      <td>59</td>\n",
       "      <td>2022-09-29</td>\n",
       "      <td>a</td>\n",
       "      <td>yes</td>\n",
       "      <td>maybe</td>\n",
       "      <td>NaN</td>\n",
       "    </tr>\n",
       "    <tr>\n",
       "      <th>0</th>\n",
       "      <td>59</td>\n",
       "      <td>2022-09-29</td>\n",
       "      <td>b</td>\n",
       "      <td>no</td>\n",
       "      <td>NA</td>\n",
       "      <td>NaN</td>\n",
       "    </tr>\n",
       "    <tr>\n",
       "      <th>1</th>\n",
       "      <td>18</td>\n",
       "      <td>2022-08-29</td>\n",
       "      <td>a</td>\n",
       "      <td>no</td>\n",
       "      <td>NaN</td>\n",
       "      <td>NaN</td>\n",
       "    </tr>\n",
       "    <tr>\n",
       "      <th>1</th>\n",
       "      <td>18</td>\n",
       "      <td>2022-08-29</td>\n",
       "      <td>b</td>\n",
       "      <td>yes</td>\n",
       "      <td>NaN</td>\n",
       "      <td>NaN</td>\n",
       "    </tr>\n",
       "    <tr>\n",
       "      <th>2</th>\n",
       "      <td>63</td>\n",
       "      <td>2022-07-29</td>\n",
       "      <td>a</td>\n",
       "      <td>no</td>\n",
       "      <td>no</td>\n",
       "      <td>yes</td>\n",
       "    </tr>\n",
       "    <tr>\n",
       "      <th>2</th>\n",
       "      <td>63</td>\n",
       "      <td>2022-07-29</td>\n",
       "      <td>b</td>\n",
       "      <td>no</td>\n",
       "      <td>yes</td>\n",
       "      <td>yes</td>\n",
       "    </tr>\n",
       "  </tbody>\n",
       "</table>\n",
       "</div>"
      ],
      "text/plain": [
       "  age        date new    0      1    2\n",
       "0  59  2022-09-29   a  yes  maybe  NaN\n",
       "0  59  2022-09-29   b   no     NA  NaN\n",
       "1  18  2022-08-29   a   no    NaN  NaN\n",
       "1  18  2022-08-29   b  yes    NaN  NaN\n",
       "2  63  2022-07-29   a   no     no  yes\n",
       "2  63  2022-07-29   b   no    yes  yes"
      ]
     },
     "execution_count": 9,
     "metadata": {},
     "output_type": "execute_result"
    }
   ],
   "source": [
    "out"
   ]
  },
  {
   "cell_type": "code",
   "execution_count": 10,
   "id": "880b5b79-197d-4243-8614-1a9b0780a39d",
   "metadata": {},
   "outputs": [
    {
     "data": {
      "text/html": [
       "<div>\n",
       "<style scoped>\n",
       "    .dataframe tbody tr th:only-of-type {\n",
       "        vertical-align: middle;\n",
       "    }\n",
       "\n",
       "    .dataframe tbody tr th {\n",
       "        vertical-align: top;\n",
       "    }\n",
       "\n",
       "    .dataframe thead th {\n",
       "        text-align: right;\n",
       "    }\n",
       "</style>\n",
       "<table border=\"1\" class=\"dataframe\">\n",
       "  <thead>\n",
       "    <tr style=\"text-align: right;\">\n",
       "      <th></th>\n",
       "      <th>age</th>\n",
       "      <th>date</th>\n",
       "      <th>a</th>\n",
       "      <th>b</th>\n",
       "    </tr>\n",
       "  </thead>\n",
       "  <tbody>\n",
       "    <tr>\n",
       "      <th>0</th>\n",
       "      <td>59</td>\n",
       "      <td>2022-09-29</td>\n",
       "      <td>yes</td>\n",
       "      <td>no</td>\n",
       "    </tr>\n",
       "    <tr>\n",
       "      <th>0</th>\n",
       "      <td>59</td>\n",
       "      <td>2022-09-29</td>\n",
       "      <td>maybe</td>\n",
       "      <td>NA</td>\n",
       "    </tr>\n",
       "    <tr>\n",
       "      <th>1</th>\n",
       "      <td>18</td>\n",
       "      <td>2022-08-29</td>\n",
       "      <td>no</td>\n",
       "      <td>yes</td>\n",
       "    </tr>\n",
       "    <tr>\n",
       "      <th>2</th>\n",
       "      <td>63</td>\n",
       "      <td>2022-07-29</td>\n",
       "      <td>no</td>\n",
       "      <td>no</td>\n",
       "    </tr>\n",
       "    <tr>\n",
       "      <th>2</th>\n",
       "      <td>63</td>\n",
       "      <td>2022-07-29</td>\n",
       "      <td>no</td>\n",
       "      <td>yes</td>\n",
       "    </tr>\n",
       "    <tr>\n",
       "      <th>2</th>\n",
       "      <td>63</td>\n",
       "      <td>2022-07-29</td>\n",
       "      <td>yes</td>\n",
       "      <td>yes</td>\n",
       "    </tr>\n",
       "  </tbody>\n",
       "</table>\n",
       "</div>"
      ],
      "text/plain": [
       "  age        date      a    b\n",
       "0  59  2022-09-29    yes   no\n",
       "0  59  2022-09-29  maybe   NA\n",
       "1  18  2022-08-29     no  yes\n",
       "2  63  2022-07-29     no   no\n",
       "2  63  2022-07-29     no  yes\n",
       "2  63  2022-07-29    yes  yes"
      ]
     },
     "execution_count": 10,
     "metadata": {},
     "output_type": "execute_result"
    }
   ],
   "source": [
    "s = df['sample'].map(dict.values).explode()\n",
    "df.drop(columns=['sample']).join(pd.DataFrame([*s], s.index))"
   ]
  },
  {
   "cell_type": "code",
   "execution_count": null,
   "id": "6ad1b073-75b3-481b-b7ec-5dd2401f3ccc",
   "metadata": {},
   "outputs": [],
   "source": []
  }
 ],
 "metadata": {
  "kernelspec": {
   "display_name": "Python 3 (ipykernel)",
   "language": "python",
   "name": "python3"
  },
  "language_info": {
   "codemirror_mode": {
    "name": "ipython",
    "version": 3
   },
   "file_extension": ".py",
   "mimetype": "text/x-python",
   "name": "python",
   "nbconvert_exporter": "python",
   "pygments_lexer": "ipython3",
   "version": "3.10.6"
  }
 },
 "nbformat": 4,
 "nbformat_minor": 5
}
