{
 "cells": [
  {
   "cell_type": "code",
   "execution_count": 1,
   "id": "4e206671-e069-484b-a90c-751aac05a5e2",
   "metadata": {},
   "outputs": [
    {
     "ename": "NameError",
     "evalue": "name 'text' is not defined",
     "output_type": "error",
     "traceback": [
      "\u001b[0;31m---------------------------------------------------------------------------\u001b[0m",
      "\u001b[0;31mNameError\u001b[0m                                 Traceback (most recent call last)",
      "Cell \u001b[0;32mIn [1], line 4\u001b[0m\n\u001b[1;32m      1\u001b[0m \u001b[38;5;28;01mimport\u001b[39;00m \u001b[38;5;21;01mrequests\u001b[39;00m\n\u001b[1;32m      2\u001b[0m \u001b[38;5;28;01mfrom\u001b[39;00m \u001b[38;5;21;01mrequests\u001b[39;00m\u001b[38;5;21;01m.\u001b[39;00m\u001b[38;5;21;01mstructures\u001b[39;00m \u001b[38;5;28;01mimport\u001b[39;00m CaseInsensitiveDict\n\u001b[0;32m----> 4\u001b[0m url \u001b[38;5;241m=\u001b[39m \u001b[38;5;124m\"\u001b[39m\u001b[38;5;124mhttps://api.geoapify.com/v1/geocode/search?text=\u001b[39m\u001b[38;5;124m\"\u001b[39m \u001b[38;5;241m+\u001b[39m \u001b[43mtext\u001b[49m \u001b[38;5;241m+\u001b[39m \u001b[38;5;124m\"\u001b[39m\u001b[38;5;124m&apiKey=3e1f56207e074f7a8108362ba0a7e5c5\u001b[39m\u001b[38;5;124m\"\u001b[39m\n\u001b[1;32m      6\u001b[0m headers \u001b[38;5;241m=\u001b[39m CaseInsensitiveDict()\n\u001b[1;32m      7\u001b[0m headers[\u001b[38;5;124m\"\u001b[39m\u001b[38;5;124mAccept\u001b[39m\u001b[38;5;124m\"\u001b[39m] \u001b[38;5;241m=\u001b[39m \u001b[38;5;124m\"\u001b[39m\u001b[38;5;124mapplication/json\u001b[39m\u001b[38;5;124m\"\u001b[39m\n",
      "\u001b[0;31mNameError\u001b[0m: name 'text' is not defined"
     ]
    }
   ],
   "source": [
    "import requests\n",
    "from requests.structures import CaseInsensitiveDict\n",
    "\n",
    "url = \"https://api.geoapify.com/v1/geocode/search?text=\" + text + \"&apiKey=3e1f56207e074f7a8108362ba0a7e5c5\"\n",
    "\n",
    "headers = CaseInsensitiveDict()\n",
    "headers[\"Accept\"] = \"application/json\"\n",
    "\n",
    "resp = requests.get(url, headers=headers)\n",
    "\n",
    "print(resp.status_code)"
   ]
  },
  {
   "cell_type": "code",
   "execution_count": 31,
   "id": "1fadcb93-bfcf-453e-91a0-93a7d9f22544",
   "metadata": {},
   "outputs": [],
   "source": [
    "from pandas import json_normalize\n",
    "addr = resp.json()\n",
    "\n",
    "addr_df = json_normalize(addr)\n",
    "\n",
    "#pd.DataFrame.from_dict(addr)"
   ]
  },
  {
   "cell_type": "code",
   "execution_count": 55,
   "id": "5832015e-e530-4617-a1c7-b88862452b8b",
   "metadata": {},
   "outputs": [
    {
     "ename": "AttributeError",
     "evalue": "'builtin_function_or_method' object has no attribute 'lower'",
     "output_type": "error",
     "traceback": [
      "\u001b[0;31m---------------------------------------------------------------------------\u001b[0m",
      "\u001b[0;31mAttributeError\u001b[0m                            Traceback (most recent call last)",
      "Cell \u001b[0;32mIn [55], line 3\u001b[0m\n\u001b[1;32m      1\u001b[0m \u001b[38;5;28;01mfor\u001b[39;00m i \u001b[38;5;129;01min\u001b[39;00m addr_df[\u001b[38;5;124m'\u001b[39m\u001b[38;5;124mfeatures\u001b[39m\u001b[38;5;124m'\u001b[39m]:\n\u001b[1;32m      2\u001b[0m     \u001b[38;5;28;01mfor\u001b[39;00m y \u001b[38;5;129;01min\u001b[39;00m i:\n\u001b[0;32m----> 3\u001b[0m         \u001b[38;5;28mprint\u001b[39m(\u001b[43mpd\u001b[49m\u001b[38;5;241;43m.\u001b[39;49m\u001b[43mDataFrame\u001b[49m\u001b[38;5;241;43m.\u001b[39;49m\u001b[43mfrom_dict\u001b[49m\u001b[43m(\u001b[49m\u001b[43m[\u001b[49m\u001b[38;5;241;43m*\u001b[39;49m\u001b[43my\u001b[49m\u001b[43m]\u001b[49m\u001b[43m,\u001b[49m\u001b[43m \u001b[49m\u001b[43my\u001b[49m\u001b[38;5;241;43m.\u001b[39;49m\u001b[43mvalues\u001b[49m\u001b[43m)\u001b[49m)\n",
      "File \u001b[0;32m/opt/conda/lib/python3.10/site-packages/pandas/core/frame.py:1741\u001b[0m, in \u001b[0;36mDataFrame.from_dict\u001b[0;34m(cls, data, orient, dtype, columns)\u001b[0m\n\u001b[1;32m   1658\u001b[0m \u001b[38;5;124;03m\"\"\"\u001b[39;00m\n\u001b[1;32m   1659\u001b[0m \u001b[38;5;124;03mConstruct DataFrame from dict of array-like or dicts.\u001b[39;00m\n\u001b[1;32m   1660\u001b[0m \n\u001b[0;32m   (...)\u001b[0m\n\u001b[1;32m   1738\u001b[0m \u001b[38;5;124;03m   c   2  4\u001b[39;00m\n\u001b[1;32m   1739\u001b[0m \u001b[38;5;124;03m\"\"\"\u001b[39;00m\n\u001b[1;32m   1740\u001b[0m index \u001b[38;5;241m=\u001b[39m \u001b[38;5;28;01mNone\u001b[39;00m\n\u001b[0;32m-> 1741\u001b[0m orient \u001b[38;5;241m=\u001b[39m \u001b[43morient\u001b[49m\u001b[38;5;241;43m.\u001b[39;49m\u001b[43mlower\u001b[49m()\n\u001b[1;32m   1742\u001b[0m \u001b[38;5;28;01mif\u001b[39;00m orient \u001b[38;5;241m==\u001b[39m \u001b[38;5;124m\"\u001b[39m\u001b[38;5;124mindex\u001b[39m\u001b[38;5;124m\"\u001b[39m:\n\u001b[1;32m   1743\u001b[0m     \u001b[38;5;28;01mif\u001b[39;00m \u001b[38;5;28mlen\u001b[39m(data) \u001b[38;5;241m>\u001b[39m \u001b[38;5;241m0\u001b[39m:\n\u001b[1;32m   1744\u001b[0m         \u001b[38;5;66;03m# TODO speed up Series case\u001b[39;00m\n",
      "\u001b[0;31mAttributeError\u001b[0m: 'builtin_function_or_method' object has no attribute 'lower'"
     ]
    }
   ],
   "source": [
    "for i in addr_df['features']:\n",
    "    for y in i:\n",
    "        print(pd.DataFrame.from_dict([*y], y.values))"
   ]
  },
  {
   "cell_type": "code",
   "execution_count": 43,
   "id": "35fb8141-42f7-43c6-b957-68e951b5a4e6",
   "metadata": {},
   "outputs": [
    {
     "name": "stdout",
     "output_type": "stream",
     "text": [
      "<built-in method values of dict object at 0x7f917616f200>\n"
     ]
    }
   ],
   "source": []
  },
  {
   "cell_type": "code",
   "execution_count": 5,
   "id": "64207001-c871-4413-a8ab-5cebb1ad5457",
   "metadata": {},
   "outputs": [],
   "source": [
    "import pandas as pd\n",
    "import geopandas as gpd\n",
    "import json\n",
    "from ast import literal_eval\n",
    "from collections import Counter\n",
    "import numpy as np\n",
    "import matplotlib.pyplot as plt\n",
    "import json\n",
    "\n",
    "\n",
    "GPEtags = pd.read_csv(\"20species_GPEtags.csv\", sep = \";\")"
   ]
  },
  {
   "cell_type": "code",
   "execution_count": 3,
   "id": "90aaac90-15cc-4e8b-a54c-52d3740eaf54",
   "metadata": {},
   "outputs": [],
   "source": [
    "GPEtags = GPEtags.drop(columns = 'Unnamed: 0')"
   ]
  },
  {
   "cell_type": "code",
   "execution_count": 11,
   "id": "d8896fd1-902b-4af9-9019-5e50125e1912",
   "metadata": {},
   "outputs": [],
   "source": [
    "locs = []\n",
    "\n",
    "for txt in GPEtags['GPE']:\n",
    "    text = txt\n",
    "    url = \"https://api.geoapify.com/v1/geocode/search?text=\" + text + \"&apiKey=3e1f56207e074f7a8108362ba0a7e5c5\"\n",
    "    \n",
    "    headers = CaseInsensitiveDict()\n",
    "    headers[\"Accept\"] = \"application/json\"\n",
    "\n",
    "    resp = requests.get(url, headers=headers)\n",
    "    locs.append(resp.json())\n",
    "    "
   ]
  },
  {
   "cell_type": "code",
   "execution_count": 72,
   "id": "5255219d-cfb8-4f07-bab9-e33286c21c5f",
   "metadata": {
    "collapsed": true,
    "jupyter": {
     "outputs_hidden": true
    },
    "tags": []
   },
   "outputs": [
    {
     "name": "stderr",
     "output_type": "stream",
     "text": [
      "/tmp/ipykernel_154/3848300190.py:5: FutureWarning: The frame.append method is deprecated and will be removed from pandas in a future version. Use pandas.concat instead.\n",
      "  test.append(pd.DataFrame(geom))\n",
      "/tmp/ipykernel_154/3848300190.py:11: FutureWarning: The frame.append method is deprecated and will be removed from pandas in a future version. Use pandas.concat instead.\n",
      "  test.append(pd.DataFrame(name))\n",
      "/tmp/ipykernel_154/3848300190.py:5: FutureWarning: The frame.append method is deprecated and will be removed from pandas in a future version. Use pandas.concat instead.\n",
      "  test.append(pd.DataFrame(geom))\n",
      "/tmp/ipykernel_154/3848300190.py:11: FutureWarning: The frame.append method is deprecated and will be removed from pandas in a future version. Use pandas.concat instead.\n",
      "  test.append(pd.DataFrame(name))\n",
      "/tmp/ipykernel_154/3848300190.py:5: FutureWarning: The frame.append method is deprecated and will be removed from pandas in a future version. Use pandas.concat instead.\n",
      "  test.append(pd.DataFrame(geom))\n",
      "/tmp/ipykernel_154/3848300190.py:11: FutureWarning: The frame.append method is deprecated and will be removed from pandas in a future version. Use pandas.concat instead.\n",
      "  test.append(pd.DataFrame(name))\n",
      "/tmp/ipykernel_154/3848300190.py:5: FutureWarning: The frame.append method is deprecated and will be removed from pandas in a future version. Use pandas.concat instead.\n",
      "  test.append(pd.DataFrame(geom))\n",
      "/tmp/ipykernel_154/3848300190.py:11: FutureWarning: The frame.append method is deprecated and will be removed from pandas in a future version. Use pandas.concat instead.\n",
      "  test.append(pd.DataFrame(name))\n",
      "/tmp/ipykernel_154/3848300190.py:5: FutureWarning: The frame.append method is deprecated and will be removed from pandas in a future version. Use pandas.concat instead.\n",
      "  test.append(pd.DataFrame(geom))\n",
      "/tmp/ipykernel_154/3848300190.py:11: FutureWarning: The frame.append method is deprecated and will be removed from pandas in a future version. Use pandas.concat instead.\n",
      "  test.append(pd.DataFrame(name))\n",
      "/tmp/ipykernel_154/3848300190.py:5: FutureWarning: The frame.append method is deprecated and will be removed from pandas in a future version. Use pandas.concat instead.\n",
      "  test.append(pd.DataFrame(geom))\n",
      "/tmp/ipykernel_154/3848300190.py:11: FutureWarning: The frame.append method is deprecated and will be removed from pandas in a future version. Use pandas.concat instead.\n",
      "  test.append(pd.DataFrame(name))\n",
      "/tmp/ipykernel_154/3848300190.py:5: FutureWarning: The frame.append method is deprecated and will be removed from pandas in a future version. Use pandas.concat instead.\n",
      "  test.append(pd.DataFrame(geom))\n",
      "/tmp/ipykernel_154/3848300190.py:11: FutureWarning: The frame.append method is deprecated and will be removed from pandas in a future version. Use pandas.concat instead.\n",
      "  test.append(pd.DataFrame(name))\n",
      "/tmp/ipykernel_154/3848300190.py:5: FutureWarning: The frame.append method is deprecated and will be removed from pandas in a future version. Use pandas.concat instead.\n",
      "  test.append(pd.DataFrame(geom))\n",
      "/tmp/ipykernel_154/3848300190.py:11: FutureWarning: The frame.append method is deprecated and will be removed from pandas in a future version. Use pandas.concat instead.\n",
      "  test.append(pd.DataFrame(name))\n",
      "/tmp/ipykernel_154/3848300190.py:5: FutureWarning: The frame.append method is deprecated and will be removed from pandas in a future version. Use pandas.concat instead.\n",
      "  test.append(pd.DataFrame(geom))\n",
      "/tmp/ipykernel_154/3848300190.py:11: FutureWarning: The frame.append method is deprecated and will be removed from pandas in a future version. Use pandas.concat instead.\n",
      "  test.append(pd.DataFrame(name))\n",
      "/tmp/ipykernel_154/3848300190.py:5: FutureWarning: The frame.append method is deprecated and will be removed from pandas in a future version. Use pandas.concat instead.\n",
      "  test.append(pd.DataFrame(geom))\n",
      "/tmp/ipykernel_154/3848300190.py:11: FutureWarning: The frame.append method is deprecated and will be removed from pandas in a future version. Use pandas.concat instead.\n",
      "  test.append(pd.DataFrame(name))\n",
      "/tmp/ipykernel_154/3848300190.py:5: FutureWarning: The frame.append method is deprecated and will be removed from pandas in a future version. Use pandas.concat instead.\n",
      "  test.append(pd.DataFrame(geom))\n",
      "/tmp/ipykernel_154/3848300190.py:11: FutureWarning: The frame.append method is deprecated and will be removed from pandas in a future version. Use pandas.concat instead.\n",
      "  test.append(pd.DataFrame(name))\n",
      "/tmp/ipykernel_154/3848300190.py:5: FutureWarning: The frame.append method is deprecated and will be removed from pandas in a future version. Use pandas.concat instead.\n",
      "  test.append(pd.DataFrame(geom))\n",
      "/tmp/ipykernel_154/3848300190.py:11: FutureWarning: The frame.append method is deprecated and will be removed from pandas in a future version. Use pandas.concat instead.\n",
      "  test.append(pd.DataFrame(name))\n",
      "/tmp/ipykernel_154/3848300190.py:5: FutureWarning: The frame.append method is deprecated and will be removed from pandas in a future version. Use pandas.concat instead.\n",
      "  test.append(pd.DataFrame(geom))\n",
      "/tmp/ipykernel_154/3848300190.py:11: FutureWarning: The frame.append method is deprecated and will be removed from pandas in a future version. Use pandas.concat instead.\n",
      "  test.append(pd.DataFrame(name))\n",
      "/tmp/ipykernel_154/3848300190.py:5: FutureWarning: The frame.append method is deprecated and will be removed from pandas in a future version. Use pandas.concat instead.\n",
      "  test.append(pd.DataFrame(geom))\n",
      "/tmp/ipykernel_154/3848300190.py:11: FutureWarning: The frame.append method is deprecated and will be removed from pandas in a future version. Use pandas.concat instead.\n",
      "  test.append(pd.DataFrame(name))\n",
      "/tmp/ipykernel_154/3848300190.py:5: FutureWarning: The frame.append method is deprecated and will be removed from pandas in a future version. Use pandas.concat instead.\n",
      "  test.append(pd.DataFrame(geom))\n",
      "/tmp/ipykernel_154/3848300190.py:11: FutureWarning: The frame.append method is deprecated and will be removed from pandas in a future version. Use pandas.concat instead.\n",
      "  test.append(pd.DataFrame(name))\n",
      "/tmp/ipykernel_154/3848300190.py:5: FutureWarning: The frame.append method is deprecated and will be removed from pandas in a future version. Use pandas.concat instead.\n",
      "  test.append(pd.DataFrame(geom))\n",
      "/tmp/ipykernel_154/3848300190.py:11: FutureWarning: The frame.append method is deprecated and will be removed from pandas in a future version. Use pandas.concat instead.\n",
      "  test.append(pd.DataFrame(name))\n",
      "/tmp/ipykernel_154/3848300190.py:5: FutureWarning: The frame.append method is deprecated and will be removed from pandas in a future version. Use pandas.concat instead.\n",
      "  test.append(pd.DataFrame(geom))\n",
      "/tmp/ipykernel_154/3848300190.py:11: FutureWarning: The frame.append method is deprecated and will be removed from pandas in a future version. Use pandas.concat instead.\n",
      "  test.append(pd.DataFrame(name))\n",
      "/tmp/ipykernel_154/3848300190.py:5: FutureWarning: The frame.append method is deprecated and will be removed from pandas in a future version. Use pandas.concat instead.\n",
      "  test.append(pd.DataFrame(geom))\n",
      "/tmp/ipykernel_154/3848300190.py:11: FutureWarning: The frame.append method is deprecated and will be removed from pandas in a future version. Use pandas.concat instead.\n",
      "  test.append(pd.DataFrame(name))\n",
      "/tmp/ipykernel_154/3848300190.py:5: FutureWarning: The frame.append method is deprecated and will be removed from pandas in a future version. Use pandas.concat instead.\n",
      "  test.append(pd.DataFrame(geom))\n",
      "/tmp/ipykernel_154/3848300190.py:11: FutureWarning: The frame.append method is deprecated and will be removed from pandas in a future version. Use pandas.concat instead.\n",
      "  test.append(pd.DataFrame(name))\n",
      "/tmp/ipykernel_154/3848300190.py:5: FutureWarning: The frame.append method is deprecated and will be removed from pandas in a future version. Use pandas.concat instead.\n",
      "  test.append(pd.DataFrame(geom))\n",
      "/tmp/ipykernel_154/3848300190.py:11: FutureWarning: The frame.append method is deprecated and will be removed from pandas in a future version. Use pandas.concat instead.\n",
      "  test.append(pd.DataFrame(name))\n",
      "/tmp/ipykernel_154/3848300190.py:5: FutureWarning: The frame.append method is deprecated and will be removed from pandas in a future version. Use pandas.concat instead.\n",
      "  test.append(pd.DataFrame(geom))\n",
      "/tmp/ipykernel_154/3848300190.py:11: FutureWarning: The frame.append method is deprecated and will be removed from pandas in a future version. Use pandas.concat instead.\n",
      "  test.append(pd.DataFrame(name))\n",
      "/tmp/ipykernel_154/3848300190.py:5: FutureWarning: The frame.append method is deprecated and will be removed from pandas in a future version. Use pandas.concat instead.\n",
      "  test.append(pd.DataFrame(geom))\n",
      "/tmp/ipykernel_154/3848300190.py:11: FutureWarning: The frame.append method is deprecated and will be removed from pandas in a future version. Use pandas.concat instead.\n",
      "  test.append(pd.DataFrame(name))\n",
      "/tmp/ipykernel_154/3848300190.py:5: FutureWarning: The frame.append method is deprecated and will be removed from pandas in a future version. Use pandas.concat instead.\n",
      "  test.append(pd.DataFrame(geom))\n",
      "/tmp/ipykernel_154/3848300190.py:11: FutureWarning: The frame.append method is deprecated and will be removed from pandas in a future version. Use pandas.concat instead.\n",
      "  test.append(pd.DataFrame(name))\n",
      "/tmp/ipykernel_154/3848300190.py:5: FutureWarning: The frame.append method is deprecated and will be removed from pandas in a future version. Use pandas.concat instead.\n",
      "  test.append(pd.DataFrame(geom))\n",
      "/tmp/ipykernel_154/3848300190.py:11: FutureWarning: The frame.append method is deprecated and will be removed from pandas in a future version. Use pandas.concat instead.\n",
      "  test.append(pd.DataFrame(name))\n",
      "/tmp/ipykernel_154/3848300190.py:5: FutureWarning: The frame.append method is deprecated and will be removed from pandas in a future version. Use pandas.concat instead.\n",
      "  test.append(pd.DataFrame(geom))\n",
      "/tmp/ipykernel_154/3848300190.py:11: FutureWarning: The frame.append method is deprecated and will be removed from pandas in a future version. Use pandas.concat instead.\n",
      "  test.append(pd.DataFrame(name))\n",
      "/tmp/ipykernel_154/3848300190.py:5: FutureWarning: The frame.append method is deprecated and will be removed from pandas in a future version. Use pandas.concat instead.\n",
      "  test.append(pd.DataFrame(geom))\n",
      "/tmp/ipykernel_154/3848300190.py:11: FutureWarning: The frame.append method is deprecated and will be removed from pandas in a future version. Use pandas.concat instead.\n",
      "  test.append(pd.DataFrame(name))\n",
      "/tmp/ipykernel_154/3848300190.py:5: FutureWarning: The frame.append method is deprecated and will be removed from pandas in a future version. Use pandas.concat instead.\n",
      "  test.append(pd.DataFrame(geom))\n",
      "/tmp/ipykernel_154/3848300190.py:11: FutureWarning: The frame.append method is deprecated and will be removed from pandas in a future version. Use pandas.concat instead.\n",
      "  test.append(pd.DataFrame(name))\n",
      "/tmp/ipykernel_154/3848300190.py:5: FutureWarning: The frame.append method is deprecated and will be removed from pandas in a future version. Use pandas.concat instead.\n",
      "  test.append(pd.DataFrame(geom))\n",
      "/tmp/ipykernel_154/3848300190.py:11: FutureWarning: The frame.append method is deprecated and will be removed from pandas in a future version. Use pandas.concat instead.\n",
      "  test.append(pd.DataFrame(name))\n",
      "/tmp/ipykernel_154/3848300190.py:5: FutureWarning: The frame.append method is deprecated and will be removed from pandas in a future version. Use pandas.concat instead.\n",
      "  test.append(pd.DataFrame(geom))\n",
      "/tmp/ipykernel_154/3848300190.py:11: FutureWarning: The frame.append method is deprecated and will be removed from pandas in a future version. Use pandas.concat instead.\n",
      "  test.append(pd.DataFrame(name))\n",
      "/tmp/ipykernel_154/3848300190.py:5: FutureWarning: The frame.append method is deprecated and will be removed from pandas in a future version. Use pandas.concat instead.\n",
      "  test.append(pd.DataFrame(geom))\n",
      "/tmp/ipykernel_154/3848300190.py:11: FutureWarning: The frame.append method is deprecated and will be removed from pandas in a future version. Use pandas.concat instead.\n",
      "  test.append(pd.DataFrame(name))\n",
      "/tmp/ipykernel_154/3848300190.py:5: FutureWarning: The frame.append method is deprecated and will be removed from pandas in a future version. Use pandas.concat instead.\n",
      "  test.append(pd.DataFrame(geom))\n",
      "/tmp/ipykernel_154/3848300190.py:11: FutureWarning: The frame.append method is deprecated and will be removed from pandas in a future version. Use pandas.concat instead.\n",
      "  test.append(pd.DataFrame(name))\n",
      "/tmp/ipykernel_154/3848300190.py:5: FutureWarning: The frame.append method is deprecated and will be removed from pandas in a future version. Use pandas.concat instead.\n",
      "  test.append(pd.DataFrame(geom))\n",
      "/tmp/ipykernel_154/3848300190.py:11: FutureWarning: The frame.append method is deprecated and will be removed from pandas in a future version. Use pandas.concat instead.\n",
      "  test.append(pd.DataFrame(name))\n",
      "/tmp/ipykernel_154/3848300190.py:5: FutureWarning: The frame.append method is deprecated and will be removed from pandas in a future version. Use pandas.concat instead.\n",
      "  test.append(pd.DataFrame(geom))\n",
      "/tmp/ipykernel_154/3848300190.py:11: FutureWarning: The frame.append method is deprecated and will be removed from pandas in a future version. Use pandas.concat instead.\n",
      "  test.append(pd.DataFrame(name))\n",
      "/tmp/ipykernel_154/3848300190.py:5: FutureWarning: The frame.append method is deprecated and will be removed from pandas in a future version. Use pandas.concat instead.\n",
      "  test.append(pd.DataFrame(geom))\n",
      "/tmp/ipykernel_154/3848300190.py:11: FutureWarning: The frame.append method is deprecated and will be removed from pandas in a future version. Use pandas.concat instead.\n",
      "  test.append(pd.DataFrame(name))\n",
      "/tmp/ipykernel_154/3848300190.py:5: FutureWarning: The frame.append method is deprecated and will be removed from pandas in a future version. Use pandas.concat instead.\n",
      "  test.append(pd.DataFrame(geom))\n",
      "/tmp/ipykernel_154/3848300190.py:11: FutureWarning: The frame.append method is deprecated and will be removed from pandas in a future version. Use pandas.concat instead.\n",
      "  test.append(pd.DataFrame(name))\n"
     ]
    },
    {
     "ename": "IndexError",
     "evalue": "list index out of range",
     "output_type": "error",
     "traceback": [
      "\u001b[0;31m---------------------------------------------------------------------------\u001b[0m",
      "\u001b[0;31mIndexError\u001b[0m                                Traceback (most recent call last)",
      "Cell \u001b[0;32mIn [72], line 4\u001b[0m\n\u001b[1;32m      1\u001b[0m test \u001b[38;5;241m=\u001b[39m pd\u001b[38;5;241m.\u001b[39mDataFrame(columns \u001b[38;5;241m=\u001b[39m [\u001b[38;5;124m'\u001b[39m\u001b[38;5;124mname\u001b[39m\u001b[38;5;124m'\u001b[39m, \u001b[38;5;124m'\u001b[39m\u001b[38;5;124mgeometry\u001b[39m\u001b[38;5;124m'\u001b[39m])\n\u001b[1;32m      3\u001b[0m \u001b[38;5;28;01mfor\u001b[39;00m n \u001b[38;5;129;01min\u001b[39;00m \u001b[38;5;28mrange\u001b[39m(\u001b[38;5;28mlen\u001b[39m(locs)):\n\u001b[0;32m----> 4\u001b[0m     geom \u001b[38;5;241m=\u001b[39m {\u001b[38;5;124m'\u001b[39m\u001b[38;5;124mgeometry\u001b[39m\u001b[38;5;124m'\u001b[39m : [\u001b[43mlocs\u001b[49m\u001b[43m[\u001b[49m\u001b[43mn\u001b[49m\u001b[43m]\u001b[49m\u001b[43m[\u001b[49m\u001b[38;5;124;43m'\u001b[39;49m\u001b[38;5;124;43mfeatures\u001b[39;49m\u001b[38;5;124;43m'\u001b[39;49m\u001b[43m]\u001b[49m\u001b[43m[\u001b[49m\u001b[38;5;241;43m0\u001b[39;49m\u001b[43m]\u001b[49m[\u001b[38;5;124m'\u001b[39m\u001b[38;5;124mproperties\u001b[39m\u001b[38;5;124m'\u001b[39m][\u001b[38;5;124m'\u001b[39m\u001b[38;5;124mlat\u001b[39m\u001b[38;5;124m'\u001b[39m], locs[n][\u001b[38;5;124m'\u001b[39m\u001b[38;5;124mfeatures\u001b[39m\u001b[38;5;124m'\u001b[39m][\u001b[38;5;241m0\u001b[39m][\u001b[38;5;124m'\u001b[39m\u001b[38;5;124mproperties\u001b[39m\u001b[38;5;124m'\u001b[39m][\u001b[38;5;124m'\u001b[39m\u001b[38;5;124mlon\u001b[39m\u001b[38;5;124m'\u001b[39m]]}\n\u001b[1;32m      5\u001b[0m     test\u001b[38;5;241m.\u001b[39mappend(pd\u001b[38;5;241m.\u001b[39mDataFrame(geom))\n\u001b[1;32m      7\u001b[0m     \u001b[38;5;28;01mtry\u001b[39;00m:\n",
      "\u001b[0;31mIndexError\u001b[0m: list index out of range"
     ]
    }
   ],
   "source": [
    "test = pd.DataFrame(columns = ['name', 'geometry'])\n",
    "\n",
    "for n in range(len(locs)):\n",
    "    \n",
    "    geom = {'geometry' : [locs[n]['features'][0]['properties']['lat'], locs[n]['features'][0]['properties']['lon']]}\n",
    "    test.append(pd.DataFrame(geom))\n",
    "    \n",
    "    try:\n",
    "        name = {'name' : [locs[n]['features'][0]['properties']['name']]}\n",
    "    except:\n",
    "        name = {'name' : [locs[n]['features'][0]['properties']['country']]}\n",
    "    test.append(pd.DataFrame(name))"
   ]
  },
  {
   "cell_type": "code",
   "execution_count": 110,
   "id": "98177f61-eefd-4aa4-b6a7-d0dcf961de59",
   "metadata": {
    "tags": []
   },
   "outputs": [
    {
     "ename": "IndexError",
     "evalue": "list index out of range",
     "output_type": "error",
     "traceback": [
      "\u001b[0;31m---------------------------------------------------------------------------\u001b[0m",
      "\u001b[0;31mIndexError\u001b[0m                                Traceback (most recent call last)",
      "Cell \u001b[0;32mIn [110], line 5\u001b[0m\n\u001b[1;32m      1\u001b[0m test \u001b[38;5;241m=\u001b[39m pd\u001b[38;5;241m.\u001b[39mDataFrame(columns \u001b[38;5;241m=\u001b[39m [\u001b[38;5;124m'\u001b[39m\u001b[38;5;124mname\u001b[39m\u001b[38;5;124m'\u001b[39m, \u001b[38;5;124m'\u001b[39m\u001b[38;5;124mgeometry\u001b[39m\u001b[38;5;124m'\u001b[39m])\n\u001b[1;32m      3\u001b[0m \u001b[38;5;28;01mfor\u001b[39;00m n \u001b[38;5;129;01min\u001b[39;00m \u001b[38;5;28mrange\u001b[39m(\u001b[38;5;28mlen\u001b[39m(new)):\n\u001b[0;32m----> 5\u001b[0m     geom \u001b[38;5;241m=\u001b[39m {\u001b[38;5;124m'\u001b[39m\u001b[38;5;124mgeometry\u001b[39m\u001b[38;5;124m'\u001b[39m : [\u001b[43mnew\u001b[49m\u001b[43m[\u001b[49m\u001b[43mn\u001b[49m\u001b[43m]\u001b[49m\u001b[43m[\u001b[49m\u001b[38;5;124;43m'\u001b[39;49m\u001b[38;5;124;43mfeatures\u001b[39;49m\u001b[38;5;124;43m'\u001b[39;49m\u001b[43m]\u001b[49m\u001b[43m[\u001b[49m\u001b[38;5;241;43m0\u001b[39;49m\u001b[43m]\u001b[49m[\u001b[38;5;124m'\u001b[39m\u001b[38;5;124mproperties\u001b[39m\u001b[38;5;124m'\u001b[39m][\u001b[38;5;124m'\u001b[39m\u001b[38;5;124mlat\u001b[39m\u001b[38;5;124m'\u001b[39m], new[n][\u001b[38;5;124m'\u001b[39m\u001b[38;5;124mfeatures\u001b[39m\u001b[38;5;124m'\u001b[39m][\u001b[38;5;241m0\u001b[39m][\u001b[38;5;124m'\u001b[39m\u001b[38;5;124mproperties\u001b[39m\u001b[38;5;124m'\u001b[39m][\u001b[38;5;124m'\u001b[39m\u001b[38;5;124mlon\u001b[39m\u001b[38;5;124m'\u001b[39m]]}\n\u001b[1;32m      6\u001b[0m     test \u001b[38;5;241m=\u001b[39m pd\u001b[38;5;241m.\u001b[39mconcat([test, pd\u001b[38;5;241m.\u001b[39mDataFrame(geom)])\n\u001b[1;32m      8\u001b[0m     \u001b[38;5;28;01mtry\u001b[39;00m:\n",
      "\u001b[0;31mIndexError\u001b[0m: list index out of range"
     ]
    }
   ],
   "source": [
    "test = pd.DataFrame(columns = ['name', 'geometry'])\n",
    "\n",
    "for n in range(len(new)):\n",
    "    \n",
    "    geom = {'geometry' : [new[n]['features'][0]['properties']['lat'], new[n]['features'][0]['properties']['lon']]}\n",
    "    test = pd.concat([test, pd.DataFrame(geom)])\n",
    "    \n",
    "    try:\n",
    "        name = {'name' : [new[n]['features'][0]['properties']['name']]}\n",
    "    except ValueError:\n",
    "        name = {'name' : [new[n]['features'][0]['properties']['country']]}\n",
    "    except:\n",
    "        pass\n",
    "    \n",
    "    test = pd.concat([test, pd.DataFrame(name)])"
   ]
  },
  {
   "cell_type": "code",
   "execution_count": 100,
   "id": "4ee02eee-a7af-43b4-8930-0847f1ed6122",
   "metadata": {
    "tags": []
   },
   "outputs": [
    {
     "ename": "IndexError",
     "evalue": "list index out of range",
     "output_type": "error",
     "traceback": [
      "\u001b[0;31m---------------------------------------------------------------------------\u001b[0m",
      "\u001b[0;31mIndexError\u001b[0m                                Traceback (most recent call last)",
      "Cell \u001b[0;32mIn [100], line 3\u001b[0m\n\u001b[1;32m      2\u001b[0m \u001b[38;5;28;01mtry\u001b[39;00m:\n\u001b[0;32m----> 3\u001b[0m     \u001b[38;5;28;01mif\u001b[39;00m \u001b[43mnew\u001b[49m\u001b[43m[\u001b[49m\u001b[43mn\u001b[49m\u001b[43m]\u001b[49m[\u001b[38;5;124m'\u001b[39m\u001b[38;5;124mfeatures\u001b[39m\u001b[38;5;124m'\u001b[39m] \u001b[38;5;241m==\u001b[39m []:\n\u001b[1;32m      4\u001b[0m          \u001b[38;5;28;01mdel\u001b[39;00m new[n]\n",
      "\u001b[0;31mIndexError\u001b[0m: list index out of range",
      "\nDuring handling of the above exception, another exception occurred:\n",
      "\u001b[0;31mIndexError\u001b[0m                                Traceback (most recent call last)",
      "Cell \u001b[0;32mIn [100], line 6\u001b[0m\n\u001b[1;32m      4\u001b[0m          \u001b[38;5;28;01mdel\u001b[39;00m new[n]\n\u001b[1;32m      5\u001b[0m \u001b[38;5;28;01mexcept\u001b[39;00m:\n\u001b[0;32m----> 6\u001b[0m     \u001b[38;5;28;01mif\u001b[39;00m \u001b[43mnew\u001b[49m\u001b[43m[\u001b[49m\u001b[43mn\u001b[49m\u001b[43m]\u001b[49m \u001b[38;5;241m==\u001b[39m []:\n\u001b[1;32m      7\u001b[0m         \u001b[38;5;28;01mdel\u001b[39;00m new[n]\n",
      "\u001b[0;31mIndexError\u001b[0m: list index out of range"
     ]
    }
   ],
   "source": [
    "for n in range(len(new)):\n",
    "    try:\n",
    "        if new[n]['features'] == []:\n",
    "             del new[n]\n",
    "    except:\n",
    "        if new[n] == []:\n",
    "            del new[n]\n",
    "    \n",
    "    "
   ]
  },
  {
   "cell_type": "code",
   "execution_count": 88,
   "id": "7dcf5d79-3bb4-4298-bc3b-5ac6804c07a6",
   "metadata": {},
   "outputs": [],
   "source": [
    "new = [x for x in locs if x != []]"
   ]
  },
  {
   "cell_type": "code",
   "execution_count": 102,
   "id": "c29febd9-e34b-48fa-87aa-d93ac48bdeb3",
   "metadata": {},
   "outputs": [
    {
     "data": {
      "text/plain": [
       "4509"
      ]
     },
     "execution_count": 102,
     "metadata": {},
     "output_type": "execute_result"
    }
   ],
   "source": [
    "len(locs)"
   ]
  },
  {
   "cell_type": "code",
   "execution_count": 51,
   "id": "9f5d1250-a527-4a4c-ae6c-65b96a78359f",
   "metadata": {},
   "outputs": [],
   "source": [
    "coord = [locs[21]['features'][0]['properties']['lat'], locs[21]['features'][0]['properties']['lon']]"
   ]
  },
  {
   "cell_type": "code",
   "execution_count": 70,
   "id": "63ab1f4b-05ec-4774-8e6a-6e95bf753df6",
   "metadata": {},
   "outputs": [
    {
     "name": "stdout",
     "output_type": "stream",
     "text": [
      "India\n"
     ]
    }
   ],
   "source": [
    "try: \n",
    "    print(locs[0]['features'][0]['properties']['name'])\n",
    "    \n",
    "except:\n",
    "    print(locs[0]['features'][0]['properties']['country'])"
   ]
  },
  {
   "cell_type": "code",
   "execution_count": null,
   "id": "f9a43700-ec5c-47dd-a413-514d62677879",
   "metadata": {},
   "outputs": [],
   "source": []
  }
 ],
 "metadata": {
  "kernelspec": {
   "display_name": "Python 3 (ipykernel)",
   "language": "python",
   "name": "python3"
  },
  "language_info": {
   "codemirror_mode": {
    "name": "ipython",
    "version": 3
   },
   "file_extension": ".py",
   "mimetype": "text/x-python",
   "name": "python",
   "nbconvert_exporter": "python",
   "pygments_lexer": "ipython3",
   "version": "3.10.6"
  }
 },
 "nbformat": 4,
 "nbformat_minor": 5
}
